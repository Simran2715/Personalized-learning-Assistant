{
 "cells": [
  {
   "cell_type": "code",
   "execution_count": 1,
   "id": "ab2cc0d0",
   "metadata": {},
   "outputs": [],
   "source": [
    "import pandas as pd\n",
    "import numpy as np\n",
    "import seaborn as sns\n",
    "import matplotlib.pyplot as plt\n",
    "from sklearn.model_selection import train_test_split\n",
    "from xgboost import XGBClassifier\n",
    "from sklearn.metrics import confusion_matrix, precision_recall_curve, auc"
   ]
  },
  {
   "cell_type": "code",
   "execution_count": 2,
   "id": "b2120606",
   "metadata": {},
   "outputs": [],
   "source": [
    "student_performance=pd.read_csv('Student_Performance.csv')"
   ]
  },
  {
   "cell_type": "code",
   "execution_count": 3,
   "id": "04d195cf",
   "metadata": {},
   "outputs": [
    {
     "name": "stdout",
     "output_type": "stream",
     "text": [
      "Generated a synthetic dataset with 5000 samples.\n",
      "Dataset head:\n",
      "   Student_ID  inactivity_score  poor_performance_score  \\\n",
      "0           1                51                      62   \n",
      "1           2                92                      21   \n",
      "2           3                14                      10   \n",
      "3           4                71                      57   \n",
      "4           5                60                      56   \n",
      "\n",
      "   inconsistent_engagement_score  study_hours_per_week  attendance_rate  \\\n",
      "0                             56                     4               68   \n",
      "1                             45                    15               98   \n",
      "2                              7                     6               57   \n",
      "3                              9                     0               70   \n",
      "4                             72                     8               80   \n",
      "\n",
      "   previous_failures  dropout  \n",
      "0                  1        1  \n",
      "1                  5        1  \n",
      "2                  4        0  \n",
      "3                  2        0  \n",
      "4                  4        0  \n",
      "\n",
      "Dropout distribution:\n",
      "dropout\n",
      "0    3066\n",
      "1    1934\n",
      "Name: count, dtype: int64\n",
      "--------------------------------------------------\n"
     ]
    }
   ],
   "source": [
    "num_samples=5000\n",
    "\n",
    "np.random.seed(42) # for reproducibility\n",
    "\n",
    "data = {\n",
    "    'Student_ID' : [i for i in range(1,num_samples+1)],\n",
    "    'inactivity_score': np.random.randint(0, 101, num_samples),\n",
    "    'poor_performance_score': np.random.randint(0, 101, num_samples),\n",
    "    'inconsistent_engagement_score': np.random.randint(0, 101, num_samples),\n",
    "    'study_hours_per_week': np.random.randint(0, 41, num_samples),\n",
    "    'attendance_rate': student_performance['attendence_rate'], # Assume minimum 50% attendance\n",
    "    'previous_failures': np.random.randint(0, 6, num_samples)\n",
    "}\n",
    "df = pd.DataFrame(data)\n",
    "\n",
    "    # Introduce some correlation for 'dropout'\n",
    "    # Higher inactivity, poor performance, inconsistent engagement, more failures\n",
    "    # and lower study hours/attendance are more likely to lead to dropout.\n",
    "dropout_prob = (\n",
    "    0.05 + # Base dropout probability\n",
    "    df['inactivity_score'] * 0.002 +\n",
    "    df['poor_performance_score'] * 0.003 +\n",
    "    df['inconsistent_engagement_score'] * 0.0025 +\n",
    "    df['previous_failures'] * 0.05 -\n",
    "    df['study_hours_per_week'] * 0.005 -\n",
    "    (100 - df['attendance_rate']) * 0.002\n",
    ")\n",
    "dropout_prob = np.clip(dropout_prob, 0.01, 0.99) # Clip probabilities to valid range\n",
    "\n",
    "df['dropout'] = (np.random.rand(num_samples) < dropout_prob).astype(int)\n",
    "\n",
    "print(f\"Generated a synthetic dataset with {num_samples} samples.\")\n",
    "print(\"Dataset head:\")\n",
    "print(df.head())\n",
    "print(\"\\nDropout distribution:\")\n",
    "print(df['dropout'].value_counts())\n",
    "print(\"-\" * 50)"
   ]
  },
  {
   "cell_type": "code",
   "execution_count": 4,
   "id": "a2836d57",
   "metadata": {},
   "outputs": [],
   "source": [
    "df.to_csv('dropout_risk.csv',index=False)"
   ]
  },
  {
   "cell_type": "code",
   "execution_count": 5,
   "id": "f5f9eec8",
   "metadata": {},
   "outputs": [
    {
     "data": {
      "text/html": [
       "<div>\n",
       "<style scoped>\n",
       "    .dataframe tbody tr th:only-of-type {\n",
       "        vertical-align: middle;\n",
       "    }\n",
       "\n",
       "    .dataframe tbody tr th {\n",
       "        vertical-align: top;\n",
       "    }\n",
       "\n",
       "    .dataframe thead th {\n",
       "        text-align: right;\n",
       "    }\n",
       "</style>\n",
       "<table border=\"1\" class=\"dataframe\">\n",
       "  <thead>\n",
       "    <tr style=\"text-align: right;\">\n",
       "      <th></th>\n",
       "      <th>Student_ID</th>\n",
       "      <th>inactivity_score</th>\n",
       "      <th>poor_performance_score</th>\n",
       "      <th>inconsistent_engagement_score</th>\n",
       "      <th>study_hours_per_week</th>\n",
       "      <th>attendance_rate</th>\n",
       "      <th>previous_failures</th>\n",
       "      <th>dropout</th>\n",
       "    </tr>\n",
       "  </thead>\n",
       "  <tbody>\n",
       "    <tr>\n",
       "      <th>0</th>\n",
       "      <td>1</td>\n",
       "      <td>51</td>\n",
       "      <td>62</td>\n",
       "      <td>56</td>\n",
       "      <td>4</td>\n",
       "      <td>68</td>\n",
       "      <td>1</td>\n",
       "      <td>1</td>\n",
       "    </tr>\n",
       "    <tr>\n",
       "      <th>1</th>\n",
       "      <td>2</td>\n",
       "      <td>92</td>\n",
       "      <td>21</td>\n",
       "      <td>45</td>\n",
       "      <td>15</td>\n",
       "      <td>98</td>\n",
       "      <td>5</td>\n",
       "      <td>1</td>\n",
       "    </tr>\n",
       "    <tr>\n",
       "      <th>2</th>\n",
       "      <td>3</td>\n",
       "      <td>14</td>\n",
       "      <td>10</td>\n",
       "      <td>7</td>\n",
       "      <td>6</td>\n",
       "      <td>57</td>\n",
       "      <td>4</td>\n",
       "      <td>0</td>\n",
       "    </tr>\n",
       "    <tr>\n",
       "      <th>3</th>\n",
       "      <td>4</td>\n",
       "      <td>71</td>\n",
       "      <td>57</td>\n",
       "      <td>9</td>\n",
       "      <td>0</td>\n",
       "      <td>70</td>\n",
       "      <td>2</td>\n",
       "      <td>0</td>\n",
       "    </tr>\n",
       "    <tr>\n",
       "      <th>4</th>\n",
       "      <td>5</td>\n",
       "      <td>60</td>\n",
       "      <td>56</td>\n",
       "      <td>72</td>\n",
       "      <td>8</td>\n",
       "      <td>80</td>\n",
       "      <td>4</td>\n",
       "      <td>0</td>\n",
       "    </tr>\n",
       "    <tr>\n",
       "      <th>...</th>\n",
       "      <td>...</td>\n",
       "      <td>...</td>\n",
       "      <td>...</td>\n",
       "      <td>...</td>\n",
       "      <td>...</td>\n",
       "      <td>...</td>\n",
       "      <td>...</td>\n",
       "      <td>...</td>\n",
       "    </tr>\n",
       "    <tr>\n",
       "      <th>4995</th>\n",
       "      <td>4996</td>\n",
       "      <td>36</td>\n",
       "      <td>9</td>\n",
       "      <td>47</td>\n",
       "      <td>17</td>\n",
       "      <td>51</td>\n",
       "      <td>3</td>\n",
       "      <td>0</td>\n",
       "    </tr>\n",
       "    <tr>\n",
       "      <th>4996</th>\n",
       "      <td>4997</td>\n",
       "      <td>78</td>\n",
       "      <td>5</td>\n",
       "      <td>61</td>\n",
       "      <td>7</td>\n",
       "      <td>68</td>\n",
       "      <td>5</td>\n",
       "      <td>0</td>\n",
       "    </tr>\n",
       "    <tr>\n",
       "      <th>4997</th>\n",
       "      <td>4998</td>\n",
       "      <td>91</td>\n",
       "      <td>12</td>\n",
       "      <td>96</td>\n",
       "      <td>14</td>\n",
       "      <td>90</td>\n",
       "      <td>0</td>\n",
       "      <td>0</td>\n",
       "    </tr>\n",
       "    <tr>\n",
       "      <th>4998</th>\n",
       "      <td>4999</td>\n",
       "      <td>17</td>\n",
       "      <td>64</td>\n",
       "      <td>59</td>\n",
       "      <td>40</td>\n",
       "      <td>66</td>\n",
       "      <td>3</td>\n",
       "      <td>1</td>\n",
       "    </tr>\n",
       "    <tr>\n",
       "      <th>4999</th>\n",
       "      <td>5000</td>\n",
       "      <td>97</td>\n",
       "      <td>19</td>\n",
       "      <td>79</td>\n",
       "      <td>16</td>\n",
       "      <td>94</td>\n",
       "      <td>3</td>\n",
       "      <td>0</td>\n",
       "    </tr>\n",
       "  </tbody>\n",
       "</table>\n",
       "<p>5000 rows × 8 columns</p>\n",
       "</div>"
      ],
      "text/plain": [
       "      Student_ID  inactivity_score  poor_performance_score  \\\n",
       "0              1                51                      62   \n",
       "1              2                92                      21   \n",
       "2              3                14                      10   \n",
       "3              4                71                      57   \n",
       "4              5                60                      56   \n",
       "...          ...               ...                     ...   \n",
       "4995        4996                36                       9   \n",
       "4996        4997                78                       5   \n",
       "4997        4998                91                      12   \n",
       "4998        4999                17                      64   \n",
       "4999        5000                97                      19   \n",
       "\n",
       "      inconsistent_engagement_score  study_hours_per_week  attendance_rate  \\\n",
       "0                                56                     4               68   \n",
       "1                                45                    15               98   \n",
       "2                                 7                     6               57   \n",
       "3                                 9                     0               70   \n",
       "4                                72                     8               80   \n",
       "...                             ...                   ...              ...   \n",
       "4995                             47                    17               51   \n",
       "4996                             61                     7               68   \n",
       "4997                             96                    14               90   \n",
       "4998                             59                    40               66   \n",
       "4999                             79                    16               94   \n",
       "\n",
       "      previous_failures  dropout  \n",
       "0                     1        1  \n",
       "1                     5        1  \n",
       "2                     4        0  \n",
       "3                     2        0  \n",
       "4                     4        0  \n",
       "...                 ...      ...  \n",
       "4995                  3        0  \n",
       "4996                  5        0  \n",
       "4997                  0        0  \n",
       "4998                  3        1  \n",
       "4999                  3        0  \n",
       "\n",
       "[5000 rows x 8 columns]"
      ]
     },
     "execution_count": 5,
     "metadata": {},
     "output_type": "execute_result"
    }
   ],
   "source": [
    "dropout=pd.read_csv('dropout_risk.csv')\n",
    "dropout"
   ]
  },
  {
   "cell_type": "code",
   "execution_count": 6,
   "id": "56b99234",
   "metadata": {},
   "outputs": [
    {
     "name": "stdout",
     "output_type": "stream",
     "text": [
      "Training data shape: (4000, 7)\n",
      "Testing data shape: (1000, 7)\n"
     ]
    }
   ],
   "source": [
    "X = dropout.drop('dropout', axis=1)\n",
    "y = dropout['dropout']\n",
    "\n",
    "# Split the dataset into training and testing sets\n",
    "X_train, X_test, y_train, y_test = train_test_split(X, y, test_size=0.2, random_state=42, stratify=y)\n",
    "\n",
    "print(f\"Training data shape: {X_train.shape}\")\n",
    "print(f\"Testing data shape: {X_test.shape}\")"
   ]
  },
  {
   "cell_type": "code",
   "execution_count": 6,
   "id": "b38ca433",
   "metadata": {},
   "outputs": [
    {
     "name": "stdout",
     "output_type": "stream",
     "text": [
      "Training XGBoost Classifier...\n"
     ]
    },
    {
     "name": "stderr",
     "output_type": "stream",
     "text": [
      "c:\\Users\\simra\\OneDrive\\Documents\\Final_Project\\.venv\\Lib\\site-packages\\xgboost\\training.py:183: UserWarning: [15:59:03] WARNING: C:\\actions-runner\\_work\\xgboost\\xgboost\\src\\learner.cc:738: \n",
      "Parameters: { \"use_label_encoder\" } are not used.\n",
      "\n",
      "  bst.update(dtrain, iteration=i, fobj=obj)\n"
     ]
    },
    {
     "name": "stdout",
     "output_type": "stream",
     "text": [
      "XGBoost Classifier trained successfully.\n",
      "--------------------------------------------------\n"
     ]
    }
   ],
   "source": [
    "# --- 2. Train XGBoost Classifier ---\n",
    "print(\"Training XGBoost Classifier...\")\n",
    "model = XGBClassifier(use_label_encoder=False, eval_metric='logloss', random_state=42)\n",
    "model.fit(X_train, y_train)\n",
    "print(\"XGBoost Classifier trained successfully.\")\n",
    "print(\"-\" * 50)\n"
   ]
  },
  {
   "cell_type": "code",
   "execution_count": 7,
   "id": "4e4cbe99",
   "metadata": {},
   "outputs": [
    {
     "name": "stdout",
     "output_type": "stream",
     "text": [
      "True Negatives (TN): 433\n",
      "False Positives (FP): 169\n",
      "False Negatives (FN): 215\n",
      "True Positives (TP): 183\n",
      "--------------------------------------------------\n"
     ]
    }
   ],
   "source": [
    "y_pred = model.predict(X_test)\n",
    "y_prob = model.predict_proba(X_test)[:, 1] \n",
    "\n",
    "tn, fp, fn, tp = confusion_matrix(y_test, y_pred).ravel()\n",
    "\n",
    "print(f\"True Negatives (TN): {tn}\")\n",
    "print(f\"False Positives (FP): {fp}\")\n",
    "print(f\"False Negatives (FN): {fn}\")\n",
    "print(f\"True Positives (TP): {tp}\")\n",
    "print(\"-\" * 50)"
   ]
  },
  {
   "cell_type": "code",
   "execution_count": 8,
   "id": "25673a60",
   "metadata": {},
   "outputs": [
    {
     "name": "stdout",
     "output_type": "stream",
     "text": [
      "False Positive Rate (FPR): 0.2807\n",
      "False Negative Rate (FNR): 0.5402\n",
      "--------------------------------------------------\n"
     ]
    }
   ],
   "source": [
    "fpr = fp / (fp + tn) if (fp + tn) != 0 else 0\n",
    "print(f\"False Positive Rate (FPR): {fpr:.4f}\")\n",
    "\n",
    "# False Negative Rate (FNR): FN / (FN + TP)\n",
    "# It's the proportion of actual positives that were incorrectly classified as negative.\n",
    "fnr = fn / (fn + tp) if (fn + tp) != 0 else 0\n",
    "print(f\"False Negative Rate (FNR): {fnr:.4f}\")\n",
    "print(\"-\" * 50)"
   ]
  },
  {
   "cell_type": "code",
   "execution_count": 9,
   "id": "437b9b60",
   "metadata": {},
   "outputs": [
    {
     "name": "stdout",
     "output_type": "stream",
     "text": [
      "Plotting Precision-Recall Curve...\n"
     ]
    },
    {
     "data": {
      "image/png": "[encoded data removed]",
      "text/plain": [
       "<Figure size 800x600 with 1 Axes>"
      ]
     },
     "metadata": {},
     "output_type": "display_data"
    }
   ],
   "source": [
    "# --- 4. Plot Precision-Recall Curve ---\n",
    "print(\"Plotting Precision-Recall Curve...\")\n",
    "precision, recall, _ = precision_recall_curve(y_test, y_prob)\n",
    "pr_auc = auc(recall, precision)\n",
    "\n",
    "plt.figure(figsize=(8, 6))\n",
    "plt.plot(recall, precision, label=f'Precision-Recall curve (AUC = {pr_auc:.2f})')\n",
    "plt.xlabel('Recall (Sensitivity)')\n",
    "plt.ylabel('Precision (Positive Predictive Value)')\n",
    "plt.title('Precision-Recall Curve for Dropout Risk Prediction')\n",
    "plt.legend(loc='lower left')\n",
    "plt.grid(True)\n",
    "plt.show()"
   ]
  },
  {
   "cell_type": "code",
   "execution_count": 10,
   "id": "14f539f5",
   "metadata": {},
   "outputs": [
    {
     "name": "stdout",
     "output_type": "stream",
     "text": [
      "Feature Importances:\n",
      "                         feature  importance\n",
      "6              previous_failures    0.190780\n",
      "2         poor_performance_score    0.149543\n",
      "3  inconsistent_engagement_score    0.144477\n",
      "1               inactivity_score    0.141089\n",
      "4           study_hours_per_week    0.130404\n",
      "5                attendance_rate    0.126269\n",
      "0                     Student_ID    0.117438\n"
     ]
    },
    {
     "data": {
      "image/png": "[encoded data removed]",
      "text/plain": [
       "<Figure size 1000x600 with 1 Axes>"
      ]
     },
     "metadata": {},
     "output_type": "display_data"
    }
   ],
   "source": [
    "# --- Analyze Model Importance (as requested in the image) ---\n",
    "print(\"Feature Importances:\")\n",
    "feature_importances = pd.DataFrame({\n",
    "    'feature': X_train.columns,\n",
    "    'importance': model.feature_importances_\n",
    "}).sort_values(by='importance', ascending=False)\n",
    "\n",
    "print(feature_importances)\n",
    "\n",
    "plt.figure(figsize=(10, 6))\n",
    "sns.barplot(x='importance', y='feature', data=feature_importances)\n",
    "plt.title('XGBoost Feature Importances')\n",
    "plt.xlabel('Importance')\n",
    "plt.ylabel('Feature')\n",
    "plt.show()\n"
   ]
  },
  {
   "cell_type": "code",
   "execution_count": 11,
   "id": "bb65dd4a",
   "metadata": {},
   "outputs": [],
   "source": [
    "import pickle\n",
    "\n",
    "with open ('XGB_classifier.pkl','wb') as file:\n",
    "    pickle.dump(model, file)"
   ]
  },
  {
   "cell_type": "code",
   "execution_count": 13,
   "id": "47c6fab3",
   "metadata": {},
   "outputs": [
    {
     "data": {
      "text/html": [
       "<div>\n",
       "<style scoped>\n",
       "    .dataframe tbody tr th:only-of-type {\n",
       "        vertical-align: middle;\n",
       "    }\n",
       "\n",
       "    .dataframe tbody tr th {\n",
       "        vertical-align: top;\n",
       "    }\n",
       "\n",
       "    .dataframe thead th {\n",
       "        text-align: right;\n",
       "    }\n",
       "</style>\n",
       "<table border=\"1\" class=\"dataframe\">\n",
       "  <thead>\n",
       "    <tr style=\"text-align: right;\">\n",
       "      <th></th>\n",
       "      <th>Student_ID</th>\n",
       "      <th>inactivity_score</th>\n",
       "      <th>poor_performance_score</th>\n",
       "      <th>inconsistent_engagement_score</th>\n",
       "      <th>study_hours_per_week</th>\n",
       "      <th>attendance_rate</th>\n",
       "      <th>previous_failures</th>\n",
       "      <th>dropout</th>\n",
       "    </tr>\n",
       "  </thead>\n",
       "  <tbody>\n",
       "    <tr>\n",
       "      <th>0</th>\n",
       "      <td>1</td>\n",
       "      <td>51</td>\n",
       "      <td>62</td>\n",
       "      <td>56</td>\n",
       "      <td>4</td>\n",
       "      <td>72</td>\n",
       "      <td>1</td>\n",
       "      <td>1</td>\n",
       "    </tr>\n",
       "    <tr>\n",
       "      <th>1</th>\n",
       "      <td>2</td>\n",
       "      <td>92</td>\n",
       "      <td>21</td>\n",
       "      <td>45</td>\n",
       "      <td>15</td>\n",
       "      <td>51</td>\n",
       "      <td>5</td>\n",
       "      <td>1</td>\n",
       "    </tr>\n",
       "    <tr>\n",
       "      <th>2</th>\n",
       "      <td>3</td>\n",
       "      <td>14</td>\n",
       "      <td>10</td>\n",
       "      <td>7</td>\n",
       "      <td>6</td>\n",
       "      <td>55</td>\n",
       "      <td>3</td>\n",
       "      <td>0</td>\n",
       "    </tr>\n",
       "    <tr>\n",
       "      <th>3</th>\n",
       "      <td>4</td>\n",
       "      <td>71</td>\n",
       "      <td>57</td>\n",
       "      <td>9</td>\n",
       "      <td>0</td>\n",
       "      <td>78</td>\n",
       "      <td>2</td>\n",
       "      <td>0</td>\n",
       "    </tr>\n",
       "    <tr>\n",
       "      <th>4</th>\n",
       "      <td>5</td>\n",
       "      <td>60</td>\n",
       "      <td>56</td>\n",
       "      <td>72</td>\n",
       "      <td>8</td>\n",
       "      <td>76</td>\n",
       "      <td>3</td>\n",
       "      <td>1</td>\n",
       "    </tr>\n",
       "  </tbody>\n",
       "</table>\n",
       "</div>"
      ],
      "text/plain": [
       "   Student_ID  inactivity_score  poor_performance_score  \\\n",
       "0           1                51                      62   \n",
       "1           2                92                      21   \n",
       "2           3                14                      10   \n",
       "3           4                71                      57   \n",
       "4           5                60                      56   \n",
       "\n",
       "   inconsistent_engagement_score  study_hours_per_week  attendance_rate  \\\n",
       "0                             56                     4               72   \n",
       "1                             45                    15               51   \n",
       "2                              7                     6               55   \n",
       "3                              9                     0               78   \n",
       "4                             72                     8               76   \n",
       "\n",
       "   previous_failures  dropout  \n",
       "0                  1        1  \n",
       "1                  5        1  \n",
       "2                  3        0  \n",
       "3                  2        0  \n",
       "4                  3        1  "
      ]
     },
     "execution_count": 13,
     "metadata": {},
     "output_type": "execute_result"
    }
   ],
   "source": [
    "dropout.head()"
   ]
  },
  {
   "cell_type": "code",
   "execution_count": 1,
   "id": "735092ba",
   "metadata": {},
   "outputs": [
    {
     "name": "stdout",
     "output_type": "stream",
     "text": [
      "Overwriting dropout.py\n"
     ]
    }
   ],
   "source": [
    "%%writefile dropout.py\n",
    "import streamlit as st \n",
    "import pandas as pd \n",
    "import numpy as np\n",
    "import pickle\n",
    "\n",
    "\n",
    "st.title('Dropout Risk Predictor')\n",
    "\n",
    "model= pickle.load(open('XGB_classifier.pkl', 'rb'))\n",
    "\n",
    "student_id=st.number_input('Student ID')\n",
    "inactivity_score=st.number_input('Inactivity Score')\n",
    "poor_performance_score=st.number_input('Poor Score')\n",
    "inconsistent_engagement_score=st.number_input('Inconsistent Engagement Score')\n",
    "study_hpurs_per_week=st.number_input('Study Hours Spent per Week')\n",
    "attendance_rate=st.number_input('Attendance Percentage')\n",
    "previous_failures=st.number_input('Previous Failures')\n",
    "\n",
    "if st.button('Dropout Predictor'):\n",
    "        input_data=np.array([student_id,inactivity_score,poor_performance_score,inconsistent_engagement_score,study_hpurs_per_week,attendance_rate,previous_failures])\n",
    "        input_data=input_data.reshape(1,-1)\n",
    "\n",
    "        prediction=model.predict(input_data)\n",
    "        st.success(f'Prediction : {prediction}')\n",
    "\n"
   ]
  },
  {
   "cell_type": "code",
   "execution_count": 2,
   "id": "1b01ce0d",
   "metadata": {},
   "outputs": [
    {
     "name": "stdout",
     "output_type": "stream",
     "text": [
      "^C\n"
     ]
    }
   ],
   "source": [
    "!streamlit run dropout.py"
   ]
  }
 ],
 "metadata": {
  "kernelspec": {
   "display_name": ".venv",
   "language": "python",
   "name": "python3"
  },
  "language_info": {
   "codemirror_mode": {
    "name": "ipython",
    "version": 3
   },
   "file_extension": ".py",
   "mimetype": "text/x-python",
   "name": "python",
   "nbconvert_exporter": "python",
   "pygments_lexer": "ipython3",
   "version": "3.12.9"
  }
 },
 "nbformat": 4,
 "nbformat_minor": 5
}
